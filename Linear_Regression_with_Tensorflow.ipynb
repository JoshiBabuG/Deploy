{
  "nbformat": 4,
  "nbformat_minor": 0,
  "metadata": {
    "colab": {
      "name": "Linear Regression with Tensorflow.ipynb",
      "provenance": [],
      "authorship_tag": "ABX9TyOb5hfdkb1ocSMmqowfij5o",
      "include_colab_link": true
    },
    "kernelspec": {
      "name": "python3",
      "display_name": "Python 3"
    },
    "accelerator": "GPU"
  },
  "cells": [
    {
      "cell_type": "markdown",
      "metadata": {
        "id": "view-in-github",
        "colab_type": "text"
      },
      "source": [
        "<a href=\"https://colab.research.google.com/github/JoshiBabuG/Heroku-Deployment-master/blob/master/Linear_Regression_with_Tensorflow.ipynb\" target=\"_parent\"><img src=\"https://colab.research.google.com/assets/colab-badge.svg\" alt=\"Open In Colab\"/></a>"
      ]
    },
    {
      "cell_type": "code",
      "metadata": {
        "colab": {
          "base_uri": "https://localhost:8080/",
          "height": 35
        },
        "id": "vBMrB_niecZE",
        "outputId": "84cde232-9d10-401e-e7c0-fcf29a2902a4"
      },
      "source": [
        "import tensorflow as tf\r\n",
        "tf.__version__"
      ],
      "execution_count": 1,
      "outputs": [
        {
          "output_type": "execute_result",
          "data": {
            "application/vnd.google.colaboratory.intrinsic+json": {
              "type": "string"
            },
            "text/plain": [
              "'2.4.0'"
            ]
          },
          "metadata": {
            "tags": []
          },
          "execution_count": 1
        }
      ]
    },
    {
      "cell_type": "code",
      "metadata": {
        "id": "lE3aB0u3fP0g"
      },
      "source": [
        "#importing important libraries\r\n",
        "import tensorflow as tf\r\n",
        "import numpy as np\r\n",
        "import pandas as pd\r\n",
        "import matplotlib.pyplot as plt"
      ],
      "execution_count": 2,
      "outputs": []
    },
    {
      "cell_type": "code",
      "metadata": {
        "colab": {
          "base_uri": "https://localhost:8080/",
          "height": 202
        },
        "id": "Tk4MBC4JfSWm",
        "outputId": "4b4a8c33-d37e-4fde-e621-594ed53080b9"
      },
      "source": [
        "#loading the dataset to pandas dataframe\r\n",
        "url = 'https://raw.githubusercontent.com/Afsaan/Linear-Regression-with-TensorFlow-2.x/master/graduate_admission.csv'\r\n",
        "df = pd.read_csv(url)\r\n",
        "\r\n",
        "#printing top 5 rows\r\n",
        "df.head()"
      ],
      "execution_count": 3,
      "outputs": [
        {
          "output_type": "execute_result",
          "data": {
            "text/html": [
              "<div>\n",
              "<style scoped>\n",
              "    .dataframe tbody tr th:only-of-type {\n",
              "        vertical-align: middle;\n",
              "    }\n",
              "\n",
              "    .dataframe tbody tr th {\n",
              "        vertical-align: top;\n",
              "    }\n",
              "\n",
              "    .dataframe thead th {\n",
              "        text-align: right;\n",
              "    }\n",
              "</style>\n",
              "<table border=\"1\" class=\"dataframe\">\n",
              "  <thead>\n",
              "    <tr style=\"text-align: right;\">\n",
              "      <th></th>\n",
              "      <th>index</th>\n",
              "      <th>gre</th>\n",
              "      <th>toefl</th>\n",
              "      <th>uni_rating</th>\n",
              "      <th>sop</th>\n",
              "      <th>lor</th>\n",
              "      <th>cgpa</th>\n",
              "      <th>research</th>\n",
              "      <th>admit</th>\n",
              "    </tr>\n",
              "  </thead>\n",
              "  <tbody>\n",
              "    <tr>\n",
              "      <th>0</th>\n",
              "      <td>1</td>\n",
              "      <td>337</td>\n",
              "      <td>118</td>\n",
              "      <td>4</td>\n",
              "      <td>4.5</td>\n",
              "      <td>4.5</td>\n",
              "      <td>9.65</td>\n",
              "      <td>1</td>\n",
              "      <td>0.92</td>\n",
              "    </tr>\n",
              "    <tr>\n",
              "      <th>1</th>\n",
              "      <td>2</td>\n",
              "      <td>324</td>\n",
              "      <td>107</td>\n",
              "      <td>4</td>\n",
              "      <td>4.0</td>\n",
              "      <td>4.5</td>\n",
              "      <td>8.87</td>\n",
              "      <td>1</td>\n",
              "      <td>0.76</td>\n",
              "    </tr>\n",
              "    <tr>\n",
              "      <th>2</th>\n",
              "      <td>3</td>\n",
              "      <td>316</td>\n",
              "      <td>104</td>\n",
              "      <td>3</td>\n",
              "      <td>3.0</td>\n",
              "      <td>3.5</td>\n",
              "      <td>8.00</td>\n",
              "      <td>1</td>\n",
              "      <td>0.72</td>\n",
              "    </tr>\n",
              "    <tr>\n",
              "      <th>3</th>\n",
              "      <td>4</td>\n",
              "      <td>322</td>\n",
              "      <td>110</td>\n",
              "      <td>3</td>\n",
              "      <td>3.5</td>\n",
              "      <td>2.5</td>\n",
              "      <td>8.67</td>\n",
              "      <td>1</td>\n",
              "      <td>0.80</td>\n",
              "    </tr>\n",
              "    <tr>\n",
              "      <th>4</th>\n",
              "      <td>5</td>\n",
              "      <td>314</td>\n",
              "      <td>103</td>\n",
              "      <td>2</td>\n",
              "      <td>2.0</td>\n",
              "      <td>3.0</td>\n",
              "      <td>8.21</td>\n",
              "      <td>0</td>\n",
              "      <td>0.65</td>\n",
              "    </tr>\n",
              "  </tbody>\n",
              "</table>\n",
              "</div>"
            ],
            "text/plain": [
              "   index  gre  toefl  uni_rating  sop  lor  cgpa  research  admit\n",
              "0      1  337    118           4  4.5  4.5  9.65         1   0.92\n",
              "1      2  324    107           4  4.0  4.5  8.87         1   0.76\n",
              "2      3  316    104           3  3.0  3.5  8.00         1   0.72\n",
              "3      4  322    110           3  3.5  2.5  8.67         1   0.80\n",
              "4      5  314    103           2  2.0  3.0  8.21         0   0.65"
            ]
          },
          "metadata": {
            "tags": []
          },
          "execution_count": 3
        }
      ]
    },
    {
      "cell_type": "code",
      "metadata": {
        "colab": {
          "base_uri": "https://localhost:8080/"
        },
        "id": "Tp8VxAhUfSlR",
        "outputId": "32f93f6d-2578-4ec7-96b9-b4652012ea5e"
      },
      "source": [
        "# Basic information of the dataset\r\n",
        "df.info()"
      ],
      "execution_count": 5,
      "outputs": [
        {
          "output_type": "stream",
          "text": [
            "<class 'pandas.core.frame.DataFrame'>\n",
            "RangeIndex: 400 entries, 0 to 399\n",
            "Data columns (total 9 columns):\n",
            " #   Column      Non-Null Count  Dtype  \n",
            "---  ------      --------------  -----  \n",
            " 0   index       400 non-null    int64  \n",
            " 1   gre         400 non-null    int64  \n",
            " 2   toefl       400 non-null    int64  \n",
            " 3   uni_rating  400 non-null    int64  \n",
            " 4   sop         400 non-null    float64\n",
            " 5   lor         400 non-null    float64\n",
            " 6   cgpa        400 non-null    float64\n",
            " 7   research    400 non-null    int64  \n",
            " 8   admit       400 non-null    float64\n",
            "dtypes: float64(4), int64(5)\n",
            "memory usage: 28.2 KB\n"
          ],
          "name": "stdout"
        }
      ]
    },
    {
      "cell_type": "code",
      "metadata": {
        "id": "sk-3XFR6fSsY"
      },
      "source": [
        "#target \r\n",
        "target = 'admit'\r\n",
        "\r\n",
        "# Categorical Columns\r\n",
        "categorical_columns = ['research']\r\n",
        "df = pd.get_dummies(df,columns = categorical_columns)"
      ],
      "execution_count": 6,
      "outputs": []
    },
    {
      "cell_type": "code",
      "metadata": {
        "colab": {
          "base_uri": "https://localhost:8080/",
          "height": 415
        },
        "id": "vLp44MPAfSx3",
        "outputId": "c6888a46-013e-4582-b086-17d323d6643f"
      },
      "source": [
        "df"
      ],
      "execution_count": 7,
      "outputs": [
        {
          "output_type": "execute_result",
          "data": {
            "text/html": [
              "<div>\n",
              "<style scoped>\n",
              "    .dataframe tbody tr th:only-of-type {\n",
              "        vertical-align: middle;\n",
              "    }\n",
              "\n",
              "    .dataframe tbody tr th {\n",
              "        vertical-align: top;\n",
              "    }\n",
              "\n",
              "    .dataframe thead th {\n",
              "        text-align: right;\n",
              "    }\n",
              "</style>\n",
              "<table border=\"1\" class=\"dataframe\">\n",
              "  <thead>\n",
              "    <tr style=\"text-align: right;\">\n",
              "      <th></th>\n",
              "      <th>index</th>\n",
              "      <th>gre</th>\n",
              "      <th>toefl</th>\n",
              "      <th>uni_rating</th>\n",
              "      <th>sop</th>\n",
              "      <th>lor</th>\n",
              "      <th>cgpa</th>\n",
              "      <th>admit</th>\n",
              "      <th>research_0</th>\n",
              "      <th>research_1</th>\n",
              "    </tr>\n",
              "  </thead>\n",
              "  <tbody>\n",
              "    <tr>\n",
              "      <th>0</th>\n",
              "      <td>1</td>\n",
              "      <td>337</td>\n",
              "      <td>118</td>\n",
              "      <td>4</td>\n",
              "      <td>4.5</td>\n",
              "      <td>4.5</td>\n",
              "      <td>9.65</td>\n",
              "      <td>0.92</td>\n",
              "      <td>0</td>\n",
              "      <td>1</td>\n",
              "    </tr>\n",
              "    <tr>\n",
              "      <th>1</th>\n",
              "      <td>2</td>\n",
              "      <td>324</td>\n",
              "      <td>107</td>\n",
              "      <td>4</td>\n",
              "      <td>4.0</td>\n",
              "      <td>4.5</td>\n",
              "      <td>8.87</td>\n",
              "      <td>0.76</td>\n",
              "      <td>0</td>\n",
              "      <td>1</td>\n",
              "    </tr>\n",
              "    <tr>\n",
              "      <th>2</th>\n",
              "      <td>3</td>\n",
              "      <td>316</td>\n",
              "      <td>104</td>\n",
              "      <td>3</td>\n",
              "      <td>3.0</td>\n",
              "      <td>3.5</td>\n",
              "      <td>8.00</td>\n",
              "      <td>0.72</td>\n",
              "      <td>0</td>\n",
              "      <td>1</td>\n",
              "    </tr>\n",
              "    <tr>\n",
              "      <th>3</th>\n",
              "      <td>4</td>\n",
              "      <td>322</td>\n",
              "      <td>110</td>\n",
              "      <td>3</td>\n",
              "      <td>3.5</td>\n",
              "      <td>2.5</td>\n",
              "      <td>8.67</td>\n",
              "      <td>0.80</td>\n",
              "      <td>0</td>\n",
              "      <td>1</td>\n",
              "    </tr>\n",
              "    <tr>\n",
              "      <th>4</th>\n",
              "      <td>5</td>\n",
              "      <td>314</td>\n",
              "      <td>103</td>\n",
              "      <td>2</td>\n",
              "      <td>2.0</td>\n",
              "      <td>3.0</td>\n",
              "      <td>8.21</td>\n",
              "      <td>0.65</td>\n",
              "      <td>1</td>\n",
              "      <td>0</td>\n",
              "    </tr>\n",
              "    <tr>\n",
              "      <th>...</th>\n",
              "      <td>...</td>\n",
              "      <td>...</td>\n",
              "      <td>...</td>\n",
              "      <td>...</td>\n",
              "      <td>...</td>\n",
              "      <td>...</td>\n",
              "      <td>...</td>\n",
              "      <td>...</td>\n",
              "      <td>...</td>\n",
              "      <td>...</td>\n",
              "    </tr>\n",
              "    <tr>\n",
              "      <th>395</th>\n",
              "      <td>396</td>\n",
              "      <td>324</td>\n",
              "      <td>110</td>\n",
              "      <td>3</td>\n",
              "      <td>3.5</td>\n",
              "      <td>3.5</td>\n",
              "      <td>9.04</td>\n",
              "      <td>0.82</td>\n",
              "      <td>0</td>\n",
              "      <td>1</td>\n",
              "    </tr>\n",
              "    <tr>\n",
              "      <th>396</th>\n",
              "      <td>397</td>\n",
              "      <td>325</td>\n",
              "      <td>107</td>\n",
              "      <td>3</td>\n",
              "      <td>3.0</td>\n",
              "      <td>3.5</td>\n",
              "      <td>9.11</td>\n",
              "      <td>0.84</td>\n",
              "      <td>0</td>\n",
              "      <td>1</td>\n",
              "    </tr>\n",
              "    <tr>\n",
              "      <th>397</th>\n",
              "      <td>398</td>\n",
              "      <td>330</td>\n",
              "      <td>116</td>\n",
              "      <td>4</td>\n",
              "      <td>5.0</td>\n",
              "      <td>4.5</td>\n",
              "      <td>9.45</td>\n",
              "      <td>0.91</td>\n",
              "      <td>0</td>\n",
              "      <td>1</td>\n",
              "    </tr>\n",
              "    <tr>\n",
              "      <th>398</th>\n",
              "      <td>399</td>\n",
              "      <td>312</td>\n",
              "      <td>103</td>\n",
              "      <td>3</td>\n",
              "      <td>3.5</td>\n",
              "      <td>4.0</td>\n",
              "      <td>8.78</td>\n",
              "      <td>0.67</td>\n",
              "      <td>1</td>\n",
              "      <td>0</td>\n",
              "    </tr>\n",
              "    <tr>\n",
              "      <th>399</th>\n",
              "      <td>400</td>\n",
              "      <td>333</td>\n",
              "      <td>117</td>\n",
              "      <td>4</td>\n",
              "      <td>5.0</td>\n",
              "      <td>4.0</td>\n",
              "      <td>9.66</td>\n",
              "      <td>0.95</td>\n",
              "      <td>0</td>\n",
              "      <td>1</td>\n",
              "    </tr>\n",
              "  </tbody>\n",
              "</table>\n",
              "<p>400 rows × 10 columns</p>\n",
              "</div>"
            ],
            "text/plain": [
              "     index  gre  toefl  uni_rating  ...  cgpa  admit  research_0  research_1\n",
              "0        1  337    118           4  ...  9.65   0.92           0           1\n",
              "1        2  324    107           4  ...  8.87   0.76           0           1\n",
              "2        3  316    104           3  ...  8.00   0.72           0           1\n",
              "3        4  322    110           3  ...  8.67   0.80           0           1\n",
              "4        5  314    103           2  ...  8.21   0.65           1           0\n",
              "..     ...  ...    ...         ...  ...   ...    ...         ...         ...\n",
              "395    396  324    110           3  ...  9.04   0.82           0           1\n",
              "396    397  325    107           3  ...  9.11   0.84           0           1\n",
              "397    398  330    116           4  ...  9.45   0.91           0           1\n",
              "398    399  312    103           3  ...  8.78   0.67           1           0\n",
              "399    400  333    117           4  ...  9.66   0.95           0           1\n",
              "\n",
              "[400 rows x 10 columns]"
            ]
          },
          "metadata": {
            "tags": []
          },
          "execution_count": 7
        }
      ]
    },
    {
      "cell_type": "code",
      "metadata": {
        "id": "ggwsTimNgQl6"
      },
      "source": [
        "# Seperating data into Training and Validation Data\r\n",
        "training_df = df.sample(frac=0.85, random_state=101)\r\n",
        "validation_df = df.drop(training_df.index)"
      ],
      "execution_count": 8,
      "outputs": []
    },
    {
      "cell_type": "code",
      "metadata": {
        "colab": {
          "base_uri": "https://localhost:8080/"
        },
        "id": "Kb8MNNgugRKl",
        "outputId": "74cd4b60-e718-45f3-bf4c-83ba96fdbfd6"
      },
      "source": [
        "print(f'[INFO] shape of training data {training_df.shape}')\r\n",
        "print(f'[INFO] shape of validation data {validation_df.shape}')"
      ],
      "execution_count": 9,
      "outputs": [
        {
          "output_type": "stream",
          "text": [
            "[INFO] shape of training data (340, 10)\n",
            "[INFO] shape of validation data (60, 10)\n"
          ],
          "name": "stdout"
        }
      ]
    },
    {
      "cell_type": "code",
      "metadata": {
        "id": "XgzxxS5AgRf1"
      },
      "source": [
        "# Removing labels from data and converting to numpy array\r\n",
        "training_labels = training_df.pop(target).values\r\n",
        "validation_labels = validation_df.pop(target).values"
      ],
      "execution_count": 10,
      "outputs": []
    },
    {
      "cell_type": "code",
      "metadata": {
        "colab": {
          "base_uri": "https://localhost:8080/"
        },
        "id": "3_GO4RZJgRsp",
        "outputId": "3387a47c-4ec1-4450-a1d7-6f3b87b2c3a3"
      },
      "source": [
        "# basic stats of the training dataset\r\n",
        "stats = training_df.describe().transpose()\r\n",
        "print(stats)"
      ],
      "execution_count": 13,
      "outputs": [
        {
          "output_type": "stream",
          "text": [
            "            count        mean         std  ...      50%     75%     max\n",
            "index       340.0  200.150000  114.640690  ...  199.500  297.25  400.00\n",
            "gre         340.0  316.561765   11.390585  ...  316.500  325.00  340.00\n",
            "toefl       340.0  107.247059    6.120050  ...  107.000  111.25  120.00\n",
            "uni_rating  340.0    3.070588    1.134477  ...    3.000    4.00    5.00\n",
            "sop         340.0    3.388235    1.017912  ...    3.500    4.00    5.00\n",
            "lor         340.0    3.451471    0.897307  ...    3.500    4.00    5.00\n",
            "cgpa        340.0    8.584794    0.605356  ...    8.565    9.08    9.92\n",
            "research_0  340.0    0.476471    0.500182  ...    0.000    1.00    1.00\n",
            "research_1  340.0    0.523529    0.500182  ...    1.000    1.00    1.00\n",
            "\n",
            "[9 rows x 8 columns]\n"
          ],
          "name": "stdout"
        }
      ]
    },
    {
      "cell_type": "code",
      "metadata": {
        "id": "DvjA06qKgR_P"
      },
      "source": [
        "# scaling data w.r.t training_df\r\n",
        "normalization_training_df = (training_df-stats['mean'])/stats['std']\r\n",
        "normalization_validation_df = (validation_df-stats['mean'])/stats['std']"
      ],
      "execution_count": 14,
      "outputs": []
    },
    {
      "cell_type": "code",
      "metadata": {
        "colab": {
          "base_uri": "https://localhost:8080/"
        },
        "id": "Wc8tRmzXhXYj",
        "outputId": "fe0b1042-9e27-40c7-8798-f3eb214b8956"
      },
      "source": [
        "# converting the data to numpy array\r\n",
        "training_data = normalization_training_df.to_numpy()\r\n",
        "validation_data = normalization_validation_df.to_numpy()\r\n",
        "# data type\r\n",
        "print(f'[INFO] type of training data {type(training_data)}')\r\n",
        "print(f'[INFO] type of validation data {type(validation_data)}')"
      ],
      "execution_count": 15,
      "outputs": [
        {
          "output_type": "stream",
          "text": [
            "[INFO] type of training data <class 'numpy.ndarray'>\n",
            "[INFO] type of validation data <class 'numpy.ndarray'>\n"
          ],
          "name": "stdout"
        }
      ]
    },
    {
      "cell_type": "code",
      "metadata": {
        "id": "QjqsGOGuj6rq"
      },
      "source": [
        "# prepare tf.data.Dataset for training\r\n",
        "def prepare_dataset(data , labels , batch, shuffle):\r\n",
        "  dataset = tf.data.Dataset.from_tensor_slices((data , labels))\r\n",
        "  dataset = dataset.shuffle(shuffle)\r\n",
        "  dataset = dataset.batch(batch).prefetch(1)\r\n",
        "  return dataset\r\n",
        "\r\n"
      ],
      "execution_count": 16,
      "outputs": []
    },
    {
      "cell_type": "code",
      "metadata": {
        "id": "TnHFn6FUj8t9"
      },
      "source": [
        "# preparing Dataset for training\r\n",
        "batch_size = 32\r\n",
        "buffer = 100\r\n",
        "training_dataset = prepare_dataset(training_data, training_labels, batch_size, buffer)\r\n",
        "validation_dataset = prepare_dataset(validation_data, validation_labels, batch_size, buffer)"
      ],
      "execution_count": 17,
      "outputs": []
    },
    {
      "cell_type": "code",
      "metadata": {
        "colab": {
          "base_uri": "https://localhost:8080/"
        },
        "id": "pGWUZ8_Mkt3C",
        "outputId": "9c781f22-4eee-43f6-8569-c0afea81c73b"
      },
      "source": [
        "print(type(training_data))"
      ],
      "execution_count": 19,
      "outputs": [
        {
          "output_type": "stream",
          "text": [
            "<class 'numpy.ndarray'>\n"
          ],
          "name": "stdout"
        }
      ]
    },
    {
      "cell_type": "code",
      "metadata": {
        "id": "8iueqRRdlBdg"
      },
      "source": [
        "import tensorflow as tf"
      ],
      "execution_count": 20,
      "outputs": []
    },
    {
      "cell_type": "code",
      "metadata": {
        "id": "SjW0AmzWlHeU"
      },
      "source": [
        "# creating the model\r\n",
        "model = tf.keras.Sequential([\r\n",
        "    tf.keras.layers.Dense(6 , activation='relu'), #first hidden layer\r\n",
        "        tf.keras.layers.Dense(3 , activation='sigmoid'),# second hiddeen layer\r\n",
        "        tf.keras.layers.Dense(7 , activation='relu'),\r\n",
        "\r\n",
        "        tf.keras.layers.Dense(1)\r\n",
        "        ])"
      ],
      "execution_count": 21,
      "outputs": []
    },
    {
      "cell_type": "code",
      "metadata": {
        "id": "Ji-OFd7xpjij"
      },
      "source": [
        ""
      ],
      "execution_count": null,
      "outputs": []
    }
  ]
}